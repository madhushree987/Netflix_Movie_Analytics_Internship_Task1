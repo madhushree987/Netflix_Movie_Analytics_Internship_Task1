{
 "cells": [
  {
   "cell_type": "markdown",
   "id": "55e2f5d4",
   "metadata": {},
   "source": [
    "# The Python code imports the **pandas** library\n",
    "reads a CSV file named \"netflix_titles.csv\" into a DataFrame. Essentially, it loads the Netflix Data into a DataFrame."
   ]
  },
  {
   "cell_type": "code",
   "execution_count": 2,
   "id": "e91debcb",
   "metadata": {},
   "outputs": [],
   "source": [
    "import pandas as pd\n",
    "df = pd.read_csv(\"netflix_titles.csv\")"
   ]
  },
  {
   "cell_type": "markdown",
   "id": "4c787cd6",
   "metadata": {},
   "source": [
    "# 1.Identify Missing Values\n",
    "This step checks for null or blank values in each column. The output shows how many missing entries exist per column."
   ]
  },
  {
   "cell_type": "code",
   "execution_count": 17,
   "id": "71e34472",
   "metadata": {},
   "outputs": [
    {
     "name": "stdout",
     "output_type": "stream",
     "text": [
      "show_id          0\n",
      "type             0\n",
      "title            0\n",
      "director         0\n",
      "cast             0\n",
      "country          0\n",
      "date_added      10\n",
      "release_year     0\n",
      "rating           4\n",
      "duration         3\n",
      "listed_in        0\n",
      "description      0\n",
      "dtype: int64\n"
     ]
    }
   ],
   "source": [
    "# Check for missing values in each column\n",
    "print(df.isnull().sum())"
   ]
  },
  {
   "cell_type": "markdown",
   "id": "c8c7f128",
   "metadata": {},
   "source": [
    "# 2. Handle Missing Values\n",
    "\n",
    "This step replaces empty values with fixed labels like \"Unknown\" or \"Not Available.\" This ensures no column remains with null data."
   ]
  },
  {
   "cell_type": "code",
   "execution_count": 18,
   "id": "58cb0d79",
   "metadata": {},
   "outputs": [
    {
     "name": "stdout",
     "output_type": "stream",
     "text": [
      "Missing values after filling:\n",
      "show_id          0\n",
      "type             0\n",
      "title            0\n",
      "director         0\n",
      "cast             0\n",
      "country          0\n",
      "date_added      10\n",
      "release_year     0\n",
      "rating           4\n",
      "duration         3\n",
      "listed_in        0\n",
      "description      0\n",
      "dtype: int64\n"
     ]
    }
   ],
   "source": [
    "df['director'] = df['director'].fillna(\"Unknown\")\n",
    "df['cast'] = df['cast'].fillna(\"Not Available\")\n",
    "df['country'] = df['country'].fillna(\"Unknown\")\n",
    "\n",
    "print(\"Missing values after filling:\")\n",
    "print(df.isnull().sum())"
   ]
  },
  {
   "cell_type": "markdown",
   "id": "7b0a0c85",
   "metadata": {},
   "source": [
    "# 3.Remove duplicate rows\n",
    "\n",
    "This step deletes repeated rows in the dataset. Only unique records are kept."
   ]
  },
  {
   "cell_type": "code",
   "execution_count": 19,
   "id": "5c77fc99",
   "metadata": {},
   "outputs": [
    {
     "name": "stdout",
     "output_type": "stream",
     "text": [
      "show_id          0\n",
      "type             0\n",
      "title            0\n",
      "director         0\n",
      "cast             0\n",
      "country          0\n",
      "date_added      10\n",
      "release_year     0\n",
      "rating           4\n",
      "duration         3\n",
      "listed_in        0\n",
      "description      0\n",
      "dtype: int64\n"
     ]
    }
   ],
   "source": [
    "print(df.isnull().sum())"
   ]
  },
  {
   "cell_type": "code",
   "execution_count": 20,
   "id": "fdbb79e8",
   "metadata": {},
   "outputs": [
    {
     "name": "stdout",
     "output_type": "stream",
     "text": [
      "Before: 8807\n",
      "After: 8807\n"
     ]
    }
   ],
   "source": [
    "print(\"Before:\", len(df))\n",
    "df = df.drop_duplicates()\n",
    "print(\"After:\", len(df))"
   ]
  },
  {
   "cell_type": "markdown",
   "id": "9e584f25",
   "metadata": {},
   "source": [
    "# 4.Standardize text values\n",
    "\n",
    "This step makes text values consistent in style. Country names, ratings, and type fields are formatted to uniform case."
   ]
  },
  {
   "cell_type": "code",
   "execution_count": 22,
   "id": "3f8c8caf",
   "metadata": {},
   "outputs": [
    {
     "name": "stdout",
     "output_type": "stream",
     "text": [
      "0                                        United States\n",
      "1                                         South Africa\n",
      "2                                              Unknown\n",
      "3                                              Unknown\n",
      "4                                                India\n",
      "5                                              Unknown\n",
      "6                                              Unknown\n",
      "7    United States, Ghana, Burkina Faso, United Kin...\n",
      "8                                       United Kingdom\n",
      "9                                        United States\n",
      "Name: country, dtype: object\n"
     ]
    }
   ],
   "source": [
    "# Standardize the 'country' column by stripping whitespace\n",
    "df['country'] = df['country'].str.strip()\n",
    "print(df['country'].head(10))"
   ]
  },
  {
   "cell_type": "markdown",
   "id": "c255e62f",
   "metadata": {},
   "source": [
    "# 5. Convert Date Formats\n",
    "\n",
    "This step changes dates into a proper datetime format. All dates are then shown in the same dd-mm-yyyy style."
   ]
  },
  {
   "cell_type": "code",
   "execution_count": 24,
   "id": "4b0dd458",
   "metadata": {},
   "outputs": [
    {
     "name": "stdout",
     "output_type": "stream",
     "text": [
      "0    25-09-2021\n",
      "1    24-09-2021\n",
      "2    24-09-2021\n",
      "3    24-09-2021\n",
      "4    24-09-2021\n",
      "Name: date_added, dtype: object\n"
     ]
    }
   ],
   "source": [
    "df['date_added'] = pd.to_datetime(df['date_added'], errors='coerce')\n",
    "df['date_added'] = df['date_added'].dt.strftime(\"%d-%m-%Y\")\n",
    "\n",
    "print(df['date_added'].head())"
   ]
  },
  {
   "cell_type": "markdown",
   "id": "3333656b",
   "metadata": {},
   "source": [
    "# 6. Rename Column Headers\n",
    "\n",
    "This step cleans the column names for a uniform style. All headers become lowercase with underscores instead of spaces."
   ]
  },
  {
   "cell_type": "code",
   "execution_count": 25,
   "id": "704c0182",
   "metadata": {},
   "outputs": [
    {
     "name": "stdout",
     "output_type": "stream",
     "text": [
      "Index(['show_id', 'type', 'title', 'director', 'cast', 'country', 'date_added',\n",
      "       'release_year', 'rating', 'duration', 'listed_in', 'description'],\n",
      "      dtype='object')\n"
     ]
    }
   ],
   "source": [
    "df.columns = df.columns.str.strip().str.lower().str.replace(\" \", \"_\")\n",
    "\n",
    "print(df.columns)"
   ]
  },
  {
   "cell_type": "markdown",
   "id": "09e96ad2",
   "metadata": {},
   "source": [
    "# 7. Check Data Types\n",
    "\n",
    "This step checks the data type of each column. It shows if values are stored as integers, strings, or dates, which is vital for correct data handling."
   ]
  },
  {
   "cell_type": "code",
   "execution_count": 26,
   "id": "5e40d535",
   "metadata": {},
   "outputs": [
    {
     "name": "stdout",
     "output_type": "stream",
     "text": [
      "show_id         object\n",
      "type            object\n",
      "title           object\n",
      "director        object\n",
      "cast            object\n",
      "country         object\n",
      "date_added      object\n",
      "release_year     int64\n",
      "rating          object\n",
      "duration        object\n",
      "listed_in       object\n",
      "description     object\n",
      "dtype: object\n"
     ]
    }
   ],
   "source": [
    "print(df.dtypes)"
   ]
  },
  {
   "cell_type": "markdown",
   "id": "cc619e82",
   "metadata": {},
   "source": [
    "# 8. Fix Data Types\n",
    "\n",
    "This step converts the release year into integers. It ensures the column is ready for numeric operations, such as calculations or comparisons."
   ]
  },
  {
   "cell_type": "code",
   "execution_count": 27,
   "id": "a330b0b4",
   "metadata": {},
   "outputs": [
    {
     "name": "stdout",
     "output_type": "stream",
     "text": [
      "0    2020\n",
      "1    2021\n",
      "2    2021\n",
      "3    2021\n",
      "4    2021\n",
      "Name: release_year, dtype: int32\n"
     ]
    }
   ],
   "source": [
    "df['release_year'] = df['release_year'].astype(int)\n",
    "\n",
    "print(df['release_year'].head())"
   ]
  },
  {
   "cell_type": "markdown",
   "id": "a4df0998",
   "metadata": {},
   "source": [
    "# 9. Split Duration Column\n",
    "\n",
    "This step separates numeric values from text in the duration column. One column stores numbers, while the other stores units like \"min\" or \"Seasons.\""
   ]
  },
  {
   "cell_type": "code",
   "execution_count": 28,
   "id": "7dc2e14a",
   "metadata": {},
   "outputs": [
    {
     "name": "stdout",
     "output_type": "stream",
     "text": [
      "    duration  duration_value duration_unit\n",
      "0     90 min            90.0           min\n",
      "1  2 Seasons             2.0       Seasons\n",
      "2   1 Season             1.0        Season\n",
      "3   1 Season             1.0        Season\n",
      "4  2 Seasons             2.0       Seasons\n"
     ]
    }
   ],
   "source": [
    "df[['duration_value', 'duration_unit']] = df['duration'].str.extract(r'(\\d+)\\s*(\\w+)')\n",
    "df['duration_value'] = pd.to_numeric(df['duration_value'], errors='coerce')\n",
    "\n",
    "print(df[['duration', 'duration_value', 'duration_unit']].head())"
   ]
  },
  {
   "cell_type": "markdown",
   "id": "1278100e",
   "metadata": {},
   "source": [
    "# 10.Converting a Categorical Column into a Numerical One\n",
    "This command transforms categorical text data into a numerical format, which is required for many machine learning models. We will convert the type column, which is either 'Movie' or 'TV Show', into 0s and 1s."
   ]
  },
  {
   "cell_type": "code",
   "execution_count": 29,
   "id": "2bee96b6",
   "metadata": {},
   "outputs": [
    {
     "name": "stdout",
     "output_type": "stream",
     "text": [
      "      type  is_tv_show\n",
      "0    Movie           0\n",
      "1  Tv Show           0\n",
      "2  Tv Show           0\n",
      "3  Tv Show           0\n",
      "4  Tv Show           0\n"
     ]
    }
   ],
   "source": [
    "# Convert 'type' column to a binary numerical representation\n",
    "df['is_tv_show'] = df['type'].apply(lambda x: 1 if x == 'TV Show' else 0)\n",
    "\n",
    "print(df[['type', 'is_tv_show']].head())"
   ]
  },
  {
   "cell_type": "markdown",
   "id": "a1c8851d",
   "metadata": {},
   "source": [
    "# 11.Grouping and Aggregating Data\n",
    "This command groups the data by country to count the number of titles from each. This provides a quick summary of the data and identifies the most frequent contributing countries."
   ]
  },
  {
   "cell_type": "code",
   "execution_count": 30,
   "id": "97eeadc3",
   "metadata": {},
   "outputs": [
    {
     "name": "stdout",
     "output_type": "stream",
     "text": [
      "Top 5 countries by title count:\n",
      "United States     2818\n",
      "India              972\n",
      "Unknown            831\n",
      "United Kingdom     419\n",
      "Japan              245\n",
      "Name: country, dtype: int64\n"
     ]
    }
   ],
   "source": [
    "# Group by 'country' and count the number of titles\n",
    "country_counts = df['country'].value_counts()\n",
    "\n",
    "print(\"Top 5 countries by title count:\")\n",
    "print(country_counts.head())"
   ]
  },
  {
   "cell_type": "markdown",
   "id": "278844d3",
   "metadata": {},
   "source": [
    "# 12. Save Cleaned Dataset\n",
    "\n",
    "This final step writes the cleaned dataset to a new CSV file. The final file is ready for subsequent analysis or for use in other applications."
   ]
  },
  {
   "cell_type": "code",
   "execution_count": 32,
   "id": "39726e0b",
   "metadata": {},
   "outputs": [
    {
     "name": "stdout",
     "output_type": "stream",
     "text": [
      "Dataset successfully saved to netflix_data_cleaned.csv\n"
     ]
    }
   ],
   "source": [
    "df.to_csv(\"netflix_data_cleaned.csv\", index=False)\n",
    "\n",
    "print(\"Dataset successfully saved to netflix_data_cleaned.csv\")"
   ]
  },
  {
   "cell_type": "code",
   "execution_count": null,
   "id": "e95bdddf",
   "metadata": {},
   "outputs": [],
   "source": []
  }
 ],
 "metadata": {
  "kernelspec": {
   "display_name": "Python 3 (ipykernel)",
   "language": "python",
   "name": "python3"
  },
  "language_info": {
   "codemirror_mode": {
    "name": "ipython",
    "version": 3
   },
   "file_extension": ".py",
   "mimetype": "text/x-python",
   "name": "python",
   "nbconvert_exporter": "python",
   "pygments_lexer": "ipython3",
   "version": "3.9.12"
  }
 },
 "nbformat": 4,
 "nbformat_minor": 5
}
